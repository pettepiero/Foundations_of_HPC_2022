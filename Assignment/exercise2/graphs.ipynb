{
 "cells": [
  {
   "cell_type": "code",
   "execution_count": 72,
   "metadata": {},
   "outputs": [],
   "source": [
    "import seaborn as sns\n",
    "import matplotlib.pyplot as plt\n",
    "from enum import Enum\n",
    "import csv\n",
    "import pandas as pd\n",
    "import os"
   ]
  },
  {
   "cell_type": "code",
   "execution_count": 73,
   "metadata": {},
   "outputs": [],
   "source": [
    "def list_files(startpath):\n",
    "    matrix_files = []\n",
    "    core_files = []\n",
    "    slurm_files = []\n",
    "\n",
    "    # Puts file names in lists of matrix, core or slurm files based on name (not very robust)\n",
    "    print(\n",
    "        \"This Folder contains {len_folder} file(s).\".format(\n",
    "            len_folder=len(startpath)\n",
    "        )\n",
    "    )\n",
    "\n",
    "    for file in startpath:\n",
    "        print(file)\n",
    "        if \"matrx\" in file:\n",
    "            matrix_files.append(file)\n",
    "        elif \"core\" in file:\n",
    "            core_files.append(file)\n",
    "        elif \"slurm\" in file:\n",
    "            slurm_files.append(file)\n",
    "\n",
    "    return matrix_files, core_files, slurm_files"
   ]
  },
  {
   "cell_type": "code",
   "execution_count": 74,
   "metadata": {},
   "outputs": [
    {
     "name": "stdout",
     "output_type": "stream",
     "text": [
      "This Folder contains 7 file(s).\n",
      "blis-matrx-scaling-378370.csv\n",
      "blis-matrx-scaling-378349.csv\n",
      "oblas-matrx-scaling-378279.csv\n",
      "mkl-matrx-scaling-378360.csv\n",
      "oblas-matrx-scaling-378361.csv\n",
      "blis-matrx-scaling-378362.csv\n",
      "mkl-matrx-scaling-378277.csv\n"
     ]
    }
   ],
   "source": [
    "matr_folder = os.listdir(\"outputs/matrix_scaling\")  # You can also use full path.\n",
    "\n",
    "matrix_files, core_files, slurm_files = list_files(matr_folder)"
   ]
  },
  {
   "cell_type": "code",
   "execution_count": 75,
   "metadata": {},
   "outputs": [],
   "source": [
    "# Function that deletes old csv files. This is necessary because the results will be appended.\n",
    "def delete_old_csv():\n",
    "    folder_path = 'csv-outputs/'  # Replace with the actual folder path\n",
    "\n",
    "    # List all files in the folder\n",
    "    file_list = os.listdir(folder_path)\n",
    "\n",
    "    # Loop through the files and delete them\n",
    "    for file_name in file_list:\n",
    "        file_path = os.path.join(folder_path, file_name)\n",
    "        if os.path.isfile(file_path):  # Check if the path is a file (not a directory)\n",
    "            os.remove(file_path)\n",
    "            print(f\"Deleted: {file_path}\")\n",
    "\n",
    "    print(f\"All files in '{folder_path}' have been deleted.\")"
   ]
  },
  {
   "cell_type": "markdown",
   "metadata": {},
   "source": [
    "## Matrix scaling"
   ]
  },
  {
   "cell_type": "code",
   "execution_count": 76,
   "metadata": {},
   "outputs": [],
   "source": [
    "# Function that gets all files that contain a certain library in a given folder\n",
    "def get_files_lib(lib, folder):\n",
    "    # Get all files in the folder\n",
    "    all_files = os.listdir(folder)\n",
    "    all_files = [file for file in all_files if lib in file]\n",
    "\n",
    "    return all_files"
   ]
  },
  {
   "cell_type": "code",
   "execution_count": 77,
   "metadata": {},
   "outputs": [
    {
     "name": "stdout",
     "output_type": "stream",
     "text": [
      "['mkl-matrx-scaling-378360.csv', 'mkl-matrx-scaling-378277.csv']\n"
     ]
    }
   ],
   "source": [
    "print(get_files_lib(\"mkl\", \"outputs/matrix_scaling\"))"
   ]
  },
  {
   "cell_type": "code",
   "execution_count": 108,
   "metadata": {},
   "outputs": [],
   "source": [
    "# Function that averages files and merges them into a single file for each lib for each precision\n",
    "def merge_files_by_library(folder):\n",
    "\n",
    "    for lib in [\"blis\", \"oblas\", \"mkl\"]:\n",
    "        files = get_files_lib(lib, folder)\n",
    "    \n",
    "        for precision in [\"Single\", \"Double\"]:\n",
    "            print(f\"Current precision: {precision}\")\n",
    "        \n",
    "            seconds = None\n",
    "            gflops = None        \n",
    "\n",
    "            for file in files:\n",
    "                print(f\"Current file: {file}\")\n",
    "                df = pd.DataFrame(pd.read_csv(os.path.join(folder, file)))\n",
    "                df = df[df[\"Precision\"] == precision]\n",
    "                \n",
    "                if seconds is None:\n",
    "                    seconds = df.loc[:, \"Seconds\"]\n",
    "                else:\n",
    "                    seconds = seconds.add(df.loc[:, \"Seconds\"], fill_value=0)\n",
    "\n",
    "                if gflops is None:\n",
    "                    gflops = df.loc[:, \"GFLOPS\"]\n",
    "                else:\n",
    "                    gflops = gflops.add(df.loc[:, \"GFLOPS\"], fill_value=0)\n",
    "\n",
    "            seconds = seconds.div(len(files))\n",
    "            gflops = gflops.div(len(files))\n",
    "\n",
    "            average_df = pd.DataFrame(\n",
    "                    {\n",
    "                        \"Matrix Size (n)\": df[\"Matrix Size (n)\"],\n",
    "                        \"Seconds\": seconds,\n",
    "                        \"GFLOPS\": gflops,\n",
    "                    }\n",
    "                )\n",
    "            filename = f\"./csv-outputs/{lib}-{precision}.csv\"\n",
    "            average_df.to_csv(filename, index=False)"
   ]
  },
  {
   "cell_type": "code",
   "execution_count": 109,
   "metadata": {},
   "outputs": [
    {
     "name": "stdout",
     "output_type": "stream",
     "text": [
      "Current precision: Single\n",
      "Current file: blis-matrx-scaling-378370.csv\n",
      "Current file: blis-matrx-scaling-378349.csv\n",
      "Current file: blis-matrx-scaling-378362.csv\n",
      "Current precision: Double\n",
      "Current file: blis-matrx-scaling-378370.csv\n",
      "Current file: blis-matrx-scaling-378349.csv\n",
      "Current file: blis-matrx-scaling-378362.csv\n",
      "Current precision: Single\n",
      "Current file: oblas-matrx-scaling-378279.csv\n",
      "Current file: oblas-matrx-scaling-378361.csv\n",
      "Current precision: Double\n",
      "Current file: oblas-matrx-scaling-378279.csv\n",
      "Current file: oblas-matrx-scaling-378361.csv\n",
      "Current precision: Single\n",
      "Current file: mkl-matrx-scaling-378360.csv\n",
      "Current file: mkl-matrx-scaling-378277.csv\n",
      "Current precision: Double\n",
      "Current file: mkl-matrx-scaling-378360.csv\n",
      "Current file: mkl-matrx-scaling-378277.csv\n"
     ]
    }
   ],
   "source": [
    "merge_files_by_library(\"outputs/matrix_scaling\")"
   ]
  },
  {
   "cell_type": "code",
   "execution_count": 87,
   "metadata": {},
   "outputs": [
    {
     "name": "stdout",
     "output_type": "stream",
     "text": [
      "Deleted: csv-outputs/mkl-Single.csv\n",
      "Deleted: csv-outputs/mkl-Double.csv\n",
      "All files in 'csv-outputs/' have been deleted.\n"
     ]
    }
   ],
   "source": [
    "# Lists to store extracted data\n",
    "matrix_dimensions = []\n",
    "mkl_gflops = []\n",
    "OBLAS_gflops = []\n",
    "blis_gflops = []\n",
    "output_folder = 'csv-outputs/'\n",
    "class libName(Enum):\n",
    "    MKL = 'mkl'\n",
    "    OBLAS = 'oblas'\n",
    "    BLIS = 'blis'\n",
    "\n",
    "delete_old_csv()\n",
    "\n",
    "# Function to select the library based on the file name\n",
    "def select_library(fileName):\n",
    "    if 'mkl' in fileName:\n",
    "        selected_library = libName.MKL\n",
    "    elif 'oblas' in fileName:\n",
    "        selected_library = libName.OBLAS\n",
    "    elif 'blis' in fileName:\n",
    "        selected_library = libName.BLIS\n",
    "    else:\n",
    "        print(f\"Error, {fileName} doesn't contain 'mkl' or 'oblas'. This will produce unkown output.\")\n",
    "    print(f\"Selected library is '{selected_library.name}'.\")\n",
    "    return selected_library\n",
    "\n",
    "# Function to create lists of data from the files\n",
    "def create_lists(folder, lib_names):\n",
    "    matrix_files, core_files, _ = list_files(folder)\n",
    "\n",
    "    for fileName in matrix_files:\n",
    "        print(f\"Reading file '{fileName}'.\\n\")\n",
    "        if os.path.isfile(fileName):\n",
    "            selected_library = select_library(fileName)\n",
    "        else:\n",
    "            print(f\"Error, file '{fileName}' is not a file.\")\n",
    "            continue\n",
    "\n",
    "        data = []\n",
    "\n",
    "        # Read the text file line by line\n",
    "        with open(folder + fileName, 'r') as input_file:\n",
    "            \n",
    "\n",
    "            # Construct the output CSV file name using the prefix and a desired extension\n",
    "            print(str(selected_library.name))\n",
    "            output_file_name = output_folder + str(selected_library.name) + \"-output.csv\"\n",
    "\n",
    "                # Append data to the CSV file. This allows data from more than one execution to be added to the same csv file.\n",
    "            with open(output_file_name, 'a', newline='') as output_file:\n",
    "                csv_writer = csv.writer(output_file)\n",
    "                csv_writer.writerow(['Size', 'GFLOPs'])  # Write header\n",
    "                csv_writer.writerows(data)  # Write data rows\n",
    "\n",
    "            print(f\"CSV file '{output_file_name}' created.\")"
   ]
  },
  {
   "cell_type": "code",
   "execution_count": 110,
   "metadata": {},
   "outputs": [
    {
     "name": "stdout",
     "output_type": "stream",
     "text": [
      "This Folder contains 23 file(s).\n",
      "o\n",
      "u\n",
      "t\n",
      "p\n",
      "u\n",
      "t\n",
      "s\n",
      "/\n",
      "m\n",
      "a\n",
      "t\n",
      "r\n",
      "i\n",
      "x\n",
      "_\n",
      "s\n",
      "c\n",
      "a\n",
      "l\n",
      "i\n",
      "n\n",
      "g\n",
      "/\n"
     ]
    }
   ],
   "source": [
    "create_lists('outputs/matrix_scaling/', libName)"
   ]
  },
  {
   "cell_type": "code",
   "execution_count": 82,
   "metadata": {},
   "outputs": [
    {
     "ename": "FileNotFoundError",
     "evalue": "[Errno 2] No such file or directory: 'csv-outputs/MKL-output.csv'",
     "output_type": "error",
     "traceback": [
      "\u001b[0;31m---------------------------------------------------------------------------\u001b[0m",
      "\u001b[0;31mFileNotFoundError\u001b[0m                         Traceback (most recent call last)",
      "Cell \u001b[0;32mIn[82], line 3\u001b[0m\n\u001b[1;32m      1\u001b[0m \u001b[38;5;66;03m# Load CSV data\u001b[39;00m\n\u001b[1;32m      2\u001b[0m csv_file_path \u001b[38;5;241m=\u001b[39m \u001b[38;5;124m'\u001b[39m\u001b[38;5;124mcsv-outputs/MKL-output.csv\u001b[39m\u001b[38;5;124m'\u001b[39m\n\u001b[0;32m----> 3\u001b[0m data \u001b[38;5;241m=\u001b[39m pd\u001b[38;5;241m.\u001b[39mread_csv(csv_file_path)\n\u001b[1;32m      5\u001b[0m \u001b[38;5;66;03m# Create the plot using Seaborn\u001b[39;00m\n\u001b[1;32m      6\u001b[0m sns\u001b[38;5;241m.\u001b[39mset(style\u001b[38;5;241m=\u001b[39m\u001b[38;5;124m\"\u001b[39m\u001b[38;5;124mwhitegrid\u001b[39m\u001b[38;5;124m\"\u001b[39m)  \u001b[38;5;66;03m# Set style for the plot\u001b[39;00m\n",
      "File \u001b[0;32m~/local/envs/viz/lib/python3.11/site-packages/pandas/io/parsers/readers.py:948\u001b[0m, in \u001b[0;36mread_csv\u001b[0;34m(filepath_or_buffer, sep, delimiter, header, names, index_col, usecols, dtype, engine, converters, true_values, false_values, skipinitialspace, skiprows, skipfooter, nrows, na_values, keep_default_na, na_filter, verbose, skip_blank_lines, parse_dates, infer_datetime_format, keep_date_col, date_parser, date_format, dayfirst, cache_dates, iterator, chunksize, compression, thousands, decimal, lineterminator, quotechar, quoting, doublequote, escapechar, comment, encoding, encoding_errors, dialect, on_bad_lines, delim_whitespace, low_memory, memory_map, float_precision, storage_options, dtype_backend)\u001b[0m\n\u001b[1;32m    935\u001b[0m kwds_defaults \u001b[38;5;241m=\u001b[39m _refine_defaults_read(\n\u001b[1;32m    936\u001b[0m     dialect,\n\u001b[1;32m    937\u001b[0m     delimiter,\n\u001b[0;32m   (...)\u001b[0m\n\u001b[1;32m    944\u001b[0m     dtype_backend\u001b[38;5;241m=\u001b[39mdtype_backend,\n\u001b[1;32m    945\u001b[0m )\n\u001b[1;32m    946\u001b[0m kwds\u001b[38;5;241m.\u001b[39mupdate(kwds_defaults)\n\u001b[0;32m--> 948\u001b[0m \u001b[38;5;28;01mreturn\u001b[39;00m _read(filepath_or_buffer, kwds)\n",
      "File \u001b[0;32m~/local/envs/viz/lib/python3.11/site-packages/pandas/io/parsers/readers.py:611\u001b[0m, in \u001b[0;36m_read\u001b[0;34m(filepath_or_buffer, kwds)\u001b[0m\n\u001b[1;32m    608\u001b[0m _validate_names(kwds\u001b[38;5;241m.\u001b[39mget(\u001b[38;5;124m\"\u001b[39m\u001b[38;5;124mnames\u001b[39m\u001b[38;5;124m\"\u001b[39m, \u001b[38;5;28;01mNone\u001b[39;00m))\n\u001b[1;32m    610\u001b[0m \u001b[38;5;66;03m# Create the parser.\u001b[39;00m\n\u001b[0;32m--> 611\u001b[0m parser \u001b[38;5;241m=\u001b[39m TextFileReader(filepath_or_buffer, \u001b[38;5;241m*\u001b[39m\u001b[38;5;241m*\u001b[39mkwds)\n\u001b[1;32m    613\u001b[0m \u001b[38;5;28;01mif\u001b[39;00m chunksize \u001b[38;5;129;01mor\u001b[39;00m iterator:\n\u001b[1;32m    614\u001b[0m     \u001b[38;5;28;01mreturn\u001b[39;00m parser\n",
      "File \u001b[0;32m~/local/envs/viz/lib/python3.11/site-packages/pandas/io/parsers/readers.py:1448\u001b[0m, in \u001b[0;36mTextFileReader.__init__\u001b[0;34m(self, f, engine, **kwds)\u001b[0m\n\u001b[1;32m   1445\u001b[0m     \u001b[38;5;28mself\u001b[39m\u001b[38;5;241m.\u001b[39moptions[\u001b[38;5;124m\"\u001b[39m\u001b[38;5;124mhas_index_names\u001b[39m\u001b[38;5;124m\"\u001b[39m] \u001b[38;5;241m=\u001b[39m kwds[\u001b[38;5;124m\"\u001b[39m\u001b[38;5;124mhas_index_names\u001b[39m\u001b[38;5;124m\"\u001b[39m]\n\u001b[1;32m   1447\u001b[0m \u001b[38;5;28mself\u001b[39m\u001b[38;5;241m.\u001b[39mhandles: IOHandles \u001b[38;5;241m|\u001b[39m \u001b[38;5;28;01mNone\u001b[39;00m \u001b[38;5;241m=\u001b[39m \u001b[38;5;28;01mNone\u001b[39;00m\n\u001b[0;32m-> 1448\u001b[0m \u001b[38;5;28mself\u001b[39m\u001b[38;5;241m.\u001b[39m_engine \u001b[38;5;241m=\u001b[39m \u001b[38;5;28mself\u001b[39m\u001b[38;5;241m.\u001b[39m_make_engine(f, \u001b[38;5;28mself\u001b[39m\u001b[38;5;241m.\u001b[39mengine)\n",
      "File \u001b[0;32m~/local/envs/viz/lib/python3.11/site-packages/pandas/io/parsers/readers.py:1705\u001b[0m, in \u001b[0;36mTextFileReader._make_engine\u001b[0;34m(self, f, engine)\u001b[0m\n\u001b[1;32m   1703\u001b[0m     \u001b[38;5;28;01mif\u001b[39;00m \u001b[38;5;124m\"\u001b[39m\u001b[38;5;124mb\u001b[39m\u001b[38;5;124m\"\u001b[39m \u001b[38;5;129;01mnot\u001b[39;00m \u001b[38;5;129;01min\u001b[39;00m mode:\n\u001b[1;32m   1704\u001b[0m         mode \u001b[38;5;241m+\u001b[39m\u001b[38;5;241m=\u001b[39m \u001b[38;5;124m\"\u001b[39m\u001b[38;5;124mb\u001b[39m\u001b[38;5;124m\"\u001b[39m\n\u001b[0;32m-> 1705\u001b[0m \u001b[38;5;28mself\u001b[39m\u001b[38;5;241m.\u001b[39mhandles \u001b[38;5;241m=\u001b[39m get_handle(\n\u001b[1;32m   1706\u001b[0m     f,\n\u001b[1;32m   1707\u001b[0m     mode,\n\u001b[1;32m   1708\u001b[0m     encoding\u001b[38;5;241m=\u001b[39m\u001b[38;5;28mself\u001b[39m\u001b[38;5;241m.\u001b[39moptions\u001b[38;5;241m.\u001b[39mget(\u001b[38;5;124m\"\u001b[39m\u001b[38;5;124mencoding\u001b[39m\u001b[38;5;124m\"\u001b[39m, \u001b[38;5;28;01mNone\u001b[39;00m),\n\u001b[1;32m   1709\u001b[0m     compression\u001b[38;5;241m=\u001b[39m\u001b[38;5;28mself\u001b[39m\u001b[38;5;241m.\u001b[39moptions\u001b[38;5;241m.\u001b[39mget(\u001b[38;5;124m\"\u001b[39m\u001b[38;5;124mcompression\u001b[39m\u001b[38;5;124m\"\u001b[39m, \u001b[38;5;28;01mNone\u001b[39;00m),\n\u001b[1;32m   1710\u001b[0m     memory_map\u001b[38;5;241m=\u001b[39m\u001b[38;5;28mself\u001b[39m\u001b[38;5;241m.\u001b[39moptions\u001b[38;5;241m.\u001b[39mget(\u001b[38;5;124m\"\u001b[39m\u001b[38;5;124mmemory_map\u001b[39m\u001b[38;5;124m\"\u001b[39m, \u001b[38;5;28;01mFalse\u001b[39;00m),\n\u001b[1;32m   1711\u001b[0m     is_text\u001b[38;5;241m=\u001b[39mis_text,\n\u001b[1;32m   1712\u001b[0m     errors\u001b[38;5;241m=\u001b[39m\u001b[38;5;28mself\u001b[39m\u001b[38;5;241m.\u001b[39moptions\u001b[38;5;241m.\u001b[39mget(\u001b[38;5;124m\"\u001b[39m\u001b[38;5;124mencoding_errors\u001b[39m\u001b[38;5;124m\"\u001b[39m, \u001b[38;5;124m\"\u001b[39m\u001b[38;5;124mstrict\u001b[39m\u001b[38;5;124m\"\u001b[39m),\n\u001b[1;32m   1713\u001b[0m     storage_options\u001b[38;5;241m=\u001b[39m\u001b[38;5;28mself\u001b[39m\u001b[38;5;241m.\u001b[39moptions\u001b[38;5;241m.\u001b[39mget(\u001b[38;5;124m\"\u001b[39m\u001b[38;5;124mstorage_options\u001b[39m\u001b[38;5;124m\"\u001b[39m, \u001b[38;5;28;01mNone\u001b[39;00m),\n\u001b[1;32m   1714\u001b[0m )\n\u001b[1;32m   1715\u001b[0m \u001b[38;5;28;01massert\u001b[39;00m \u001b[38;5;28mself\u001b[39m\u001b[38;5;241m.\u001b[39mhandles \u001b[38;5;129;01mis\u001b[39;00m \u001b[38;5;129;01mnot\u001b[39;00m \u001b[38;5;28;01mNone\u001b[39;00m\n\u001b[1;32m   1716\u001b[0m f \u001b[38;5;241m=\u001b[39m \u001b[38;5;28mself\u001b[39m\u001b[38;5;241m.\u001b[39mhandles\u001b[38;5;241m.\u001b[39mhandle\n",
      "File \u001b[0;32m~/local/envs/viz/lib/python3.11/site-packages/pandas/io/common.py:863\u001b[0m, in \u001b[0;36mget_handle\u001b[0;34m(path_or_buf, mode, encoding, compression, memory_map, is_text, errors, storage_options)\u001b[0m\n\u001b[1;32m    858\u001b[0m \u001b[38;5;28;01melif\u001b[39;00m \u001b[38;5;28misinstance\u001b[39m(handle, \u001b[38;5;28mstr\u001b[39m):\n\u001b[1;32m    859\u001b[0m     \u001b[38;5;66;03m# Check whether the filename is to be opened in binary mode.\u001b[39;00m\n\u001b[1;32m    860\u001b[0m     \u001b[38;5;66;03m# Binary mode does not support 'encoding' and 'newline'.\u001b[39;00m\n\u001b[1;32m    861\u001b[0m     \u001b[38;5;28;01mif\u001b[39;00m ioargs\u001b[38;5;241m.\u001b[39mencoding \u001b[38;5;129;01mand\u001b[39;00m \u001b[38;5;124m\"\u001b[39m\u001b[38;5;124mb\u001b[39m\u001b[38;5;124m\"\u001b[39m \u001b[38;5;129;01mnot\u001b[39;00m \u001b[38;5;129;01min\u001b[39;00m ioargs\u001b[38;5;241m.\u001b[39mmode:\n\u001b[1;32m    862\u001b[0m         \u001b[38;5;66;03m# Encoding\u001b[39;00m\n\u001b[0;32m--> 863\u001b[0m         handle \u001b[38;5;241m=\u001b[39m \u001b[38;5;28mopen\u001b[39m(\n\u001b[1;32m    864\u001b[0m             handle,\n\u001b[1;32m    865\u001b[0m             ioargs\u001b[38;5;241m.\u001b[39mmode,\n\u001b[1;32m    866\u001b[0m             encoding\u001b[38;5;241m=\u001b[39mioargs\u001b[38;5;241m.\u001b[39mencoding,\n\u001b[1;32m    867\u001b[0m             errors\u001b[38;5;241m=\u001b[39merrors,\n\u001b[1;32m    868\u001b[0m             newline\u001b[38;5;241m=\u001b[39m\u001b[38;5;124m\"\u001b[39m\u001b[38;5;124m\"\u001b[39m,\n\u001b[1;32m    869\u001b[0m         )\n\u001b[1;32m    870\u001b[0m     \u001b[38;5;28;01melse\u001b[39;00m:\n\u001b[1;32m    871\u001b[0m         \u001b[38;5;66;03m# Binary mode\u001b[39;00m\n\u001b[1;32m    872\u001b[0m         handle \u001b[38;5;241m=\u001b[39m \u001b[38;5;28mopen\u001b[39m(handle, ioargs\u001b[38;5;241m.\u001b[39mmode)\n",
      "\u001b[0;31mFileNotFoundError\u001b[0m: [Errno 2] No such file or directory: 'csv-outputs/MKL-output.csv'"
     ]
    }
   ],
   "source": [
    "# Load CSV data\n",
    "csv_file_path = 'csv-outputs/MKL-output.csv'\n",
    "data = pd.read_csv(csv_file_path)\n",
    "\n",
    "# Create the plot using Seaborn\n",
    "sns.set(style=\"whitegrid\")  # Set style for the plot\n",
    "fig, axes = plt.subplots(1, 2, figsize=(15, 6))  # Create a 1x2 grid of subplots\n",
    "\n",
    "#Plotting MKL-outputs\n",
    "sns.lineplot(x='Size', y='GFLOPs', data=data, ax=axes[0])\n",
    "\n",
    "axes[0].set_xlabel(\"Size\")\n",
    "axes[0].set_ylabel(\"GFLOPs\")\n",
    "axes[0].set_title(\"GFLOPs vs Size for MKL\")\n",
    "plt.xticks(rotation=45)  # Rotate x-axis labels for better visibility\n",
    "\n",
    "#Plotting OBLAS-outputs\n",
    "csv_file_path = 'csv-outputs/OBLAS-output.csv'\n",
    "data = pd.read_csv(csv_file_path)\n",
    "sns.lineplot(x='Size', y='GFLOPs', data=data, ax=axes[1])\n",
    "\n",
    "axes[1].set_xlabel(\"Size\")\n",
    "axes[1].set_ylabel(\"GFLOPs\")\n",
    "axes[1].set_title(\"GFLOPs vs Size for OBLAS\")\n",
    "\n",
    "# Saving image as jpg\n",
    "plt.savefig(\"images/matrx-scaling.jpg\", dpi=300)\n",
    "\n",
    "plt.xticks(rotation=45)  # Rotate x-axis labels for better visibility\n",
    "\n",
    "plt.tight_layout()  # Adjust layout for better appearance\n",
    "plt.show()  # Show the plot\n",
    "\n"
   ]
  },
  {
   "cell_type": "code",
   "execution_count": null,
   "metadata": {},
   "outputs": [
    {
     "ename": "FileNotFoundError",
     "evalue": "[Errno 2] No such file or directory: 'mkl-core-scaling'",
     "output_type": "error",
     "traceback": [
      "\u001b[0;31m---------------------------------------------------------------------------\u001b[0m",
      "\u001b[0;31mFileNotFoundError\u001b[0m                         Traceback (most recent call last)",
      "Cell \u001b[0;32mIn[39], line 8\u001b[0m\n\u001b[1;32m      4\u001b[0m OBLAS_gflops \u001b[39m=\u001b[39m []\n\u001b[1;32m      7\u001b[0m \u001b[39m# Read the text file line by line\u001b[39;00m\n\u001b[0;32m----> 8\u001b[0m \u001b[39mwith\u001b[39;00m \u001b[39mopen\u001b[39;49m(\u001b[39m'\u001b[39;49m\u001b[39mmkl-core-scaling\u001b[39;49m\u001b[39m'\u001b[39;49m, \u001b[39m'\u001b[39;49m\u001b[39mr\u001b[39;49m\u001b[39m'\u001b[39;49m) \u001b[39mas\u001b[39;00m file:\n\u001b[1;32m      9\u001b[0m     \u001b[39mfor\u001b[39;00m line \u001b[39min\u001b[39;00m file:\n\u001b[1;32m     10\u001b[0m         \u001b[39m# Split line into words\u001b[39;00m\n\u001b[1;32m     11\u001b[0m         words \u001b[39m=\u001b[39m line\u001b[39m.\u001b[39mstrip()\u001b[39m.\u001b[39msplit()\n",
      "File \u001b[0;32m~/local/lib/python3.10/site-packages/IPython/core/interactiveshell.py:282\u001b[0m, in \u001b[0;36m_modified_open\u001b[0;34m(file, *args, **kwargs)\u001b[0m\n\u001b[1;32m    275\u001b[0m \u001b[39mif\u001b[39;00m file \u001b[39min\u001b[39;00m {\u001b[39m0\u001b[39m, \u001b[39m1\u001b[39m, \u001b[39m2\u001b[39m}:\n\u001b[1;32m    276\u001b[0m     \u001b[39mraise\u001b[39;00m \u001b[39mValueError\u001b[39;00m(\n\u001b[1;32m    277\u001b[0m         \u001b[39mf\u001b[39m\u001b[39m\"\u001b[39m\u001b[39mIPython won\u001b[39m\u001b[39m'\u001b[39m\u001b[39mt let you open fd=\u001b[39m\u001b[39m{\u001b[39;00mfile\u001b[39m}\u001b[39;00m\u001b[39m by default \u001b[39m\u001b[39m\"\u001b[39m\n\u001b[1;32m    278\u001b[0m         \u001b[39m\"\u001b[39m\u001b[39mas it is likely to crash IPython. If you know what you are doing, \u001b[39m\u001b[39m\"\u001b[39m\n\u001b[1;32m    279\u001b[0m         \u001b[39m\"\u001b[39m\u001b[39myou can use builtins\u001b[39m\u001b[39m'\u001b[39m\u001b[39m open.\u001b[39m\u001b[39m\"\u001b[39m\n\u001b[1;32m    280\u001b[0m     )\n\u001b[0;32m--> 282\u001b[0m \u001b[39mreturn\u001b[39;00m io_open(file, \u001b[39m*\u001b[39;49margs, \u001b[39m*\u001b[39;49m\u001b[39m*\u001b[39;49mkwargs)\n",
      "\u001b[0;31mFileNotFoundError\u001b[0m: [Errno 2] No such file or directory: 'mkl-core-scaling'"
     ]
    }
   ],
   "source": [
    "# Lists to store extracted data\n",
    "matrix_dimensions = []\n",
    "mkl_gflops = []\n",
    "OBLAS_gflops = []\n",
    "\n",
    "\n",
    "# Read the text file line by line\n",
    "with open('mkl-core-scaling', 'r') as file:\n",
    "    for line in file:\n",
    "        # Split line into words\n",
    "        words = line.strip().split()\n",
    "\n",
    "        # Extract x value (first number until 'x')\n",
    "        value = float(words[0].split('x')[0])\n",
    "        matrix_dimensions.append(value)\n",
    "\n",
    "        # Extract y value (second-to-last word)\n",
    "        gflop = int(round(float(words[-2])))\n",
    "        mkl_gflops.append(int(gflop))\n",
    "\n",
    "\n",
    "# # Read the text file line by line\n",
    "with open('oblas-core-scaling', 'r') as file:\n",
    "    for line in file:\n",
    "        # Split line into words\n",
    "        words = line.strip().split()\n",
    "\n",
    "        # Extract y value (second-to-last word)\n",
    "        gflop = int(round(float(words[-2])))\n",
    "        OBLAS_gflops.append(int(gflop))\n",
    "\n",
    "\n",
    "print(type(mkl_gflops[1]))"
   ]
  },
  {
   "cell_type": "code",
   "execution_count": null,
   "metadata": {},
   "outputs": [],
   "source": [
    "# Set Seaborn style\n",
    "sns.set(style='whitegrid')\n",
    "\n",
    "# Create the plot\n",
    "plt.figure(figsize=(10, 6))\n",
    "\n",
    "sns.lineplot(x=matrix_dimensions, y=mkl_gflops, label='MKL')\n",
    "sns.lineplot(x=matrix_dimensions, y=OBLAS_gflops, label='OBLAS')\n",
    "\n",
    "# Set labels and title\n",
    "plt.xlabel('Matrix dimensions')\n",
    "plt.ylabel('GFLOPs')\n",
    "plt.title('Comparison between MKL and OBLAS on dgemm.c')\n",
    "\n",
    "# Add a legend\n",
    "plt.legend()\n",
    "\n",
    "# Display the plot\n",
    "plt.tight_layout()\n",
    "plt.show()"
   ]
  }
 ],
 "metadata": {
  "kernelspec": {
   "display_name": "AP",
   "language": "python",
   "name": "python3"
  },
  "language_info": {
   "codemirror_mode": {
    "name": "ipython",
    "version": 3
   },
   "file_extension": ".py",
   "mimetype": "text/x-python",
   "name": "python",
   "nbconvert_exporter": "python",
   "pygments_lexer": "ipython3",
   "version": "3.11.5"
  },
  "orig_nbformat": 4
 },
 "nbformat": 4,
 "nbformat_minor": 2
}
