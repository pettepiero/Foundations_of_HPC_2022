{
 "cells": [
  {
   "cell_type": "code",
   "execution_count": null,
   "metadata": {},
   "outputs": [],
   "source": [
    "# !pip install matplotlib\n",
    "# !pip install pandas\n",
    "# !pip install numpy"
   ]
  },
  {
   "cell_type": "code",
   "execution_count": null,
   "metadata": {},
   "outputs": [],
   "source": [
    "import matplotlib.pyplot as plt\n",
    "import pandas as pd\n",
    "import numpy as np\n",
    "import os"
   ]
  },
  {
   "cell_type": "markdown",
   "metadata": {},
   "source": [
    "## Generate time/#threads plots"
   ]
  },
  {
   "cell_type": "code",
   "execution_count": null,
   "metadata": {},
   "outputs": [],
   "source": [
    "def get_serial_data(size_of_matrix, jobid, print_df =False):\n",
    "    directory_path = './outputs/timings'\n",
    "    files = os.listdir(directory_path)\n",
    "    csv_file = [file for file in files if \"serial\" in file and str(jobid) in file]\n",
    "    if csv_file:\n",
    "        csv_file_path = os.path.join(directory_path, csv_file[0])\n",
    "        df = pd.read_csv(csv_file_path)\n",
    "        if print_df:\n",
    "            print(\"\\nSerial times:\")\n",
    "            print(df)\n",
    "    else:\n",
    "        print(\"No CSV file with the name 'serial-data' found.\")\n",
    "\n",
    "    serial_time = df[df[\"dim\"] == size_of_matrix][\"time\"]\n",
    "    return serial_time"
   ]
  },
  {
   "cell_type": "code",
   "execution_count": null,
   "metadata": {},
   "outputs": [],
   "source": [
    "data1 = pd.read_csv(\"./outputs/timings/openmp-scal-740667.csv\")\n",
    "data2 = pd.read_csv(\"./outputs/timings/openmp-scal-740543.csv\")\n",
    "data3 = pd.read_csv(\"./outputs/timings/openmp-scal-740549.csv\")\n",
    "\n",
    "data = pd.concat([data1, data2, data3], ignore_index=True)\n",
    "data.head()"
   ]
  },
  {
   "cell_type": "code",
   "metadata": {},
   "outputs": [],
   "source": [
    "df100 = data[data[\"dim\"] == 100]\n",
    "df500 = data[data[\"dim\"] == 500]\n",
    "df1000 = data[data[\"dim\"] == 1000]\n",
    "df1500 = data[data[\"dim\"] == 1500]\n",
    "df2000 = data[data[\"dim\"] == 2000]"
   ]
  },
  {
   "cell_type": "markdown",
   "metadata": {},
   "source": [
    "## Serial times"
   ]
  },
  {
   "cell_type": "code",
   "execution_count": null,
   "metadata": {},
   "outputs": [],
   "source": [
    "SERIAL_JOBID = 743101\n",
    "\n",
    "serial100 = get_serial_data(size_of_matrix=100, jobid=SERIAL_JOBID, print_df=True)\n",
    "serial500 = get_serial_data(size_of_matrix=500, jobid=SERIAL_JOBID)\n",
    "serial1000 = get_serial_data(size_of_matrix=1000, jobid=SERIAL_JOBID)\n",
    "serial1500 = get_serial_data(size_of_matrix=1500, jobid=SERIAL_JOBID)\n",
    "serial2000 = get_serial_data(size_of_matrix=2000, jobid=SERIAL_JOBID)\n",
    "print(serial100)\n",
    "print(serial500)\n",
    "print(serial1000)\n",
    "print(serial1500)\n",
    "print(serial2000)"
   ]
  },
  {
   "cell_type": "code",
   "execution_count": null,
   "metadata": {},
   "outputs": [],
   "source": [
    "#Add speedup column\n",
    "def add_speedup_and_normalized_t_columns(data: pd.DataFrame, serial_time):\n",
    "    data[\"speedup\"] = serial_time / (data[\"time\"])\n",
    "    print(f\"type of serial_time element = {type(serial_time.iloc[1])}\\n, type of data['time'] elements = {type(data['time'].iloc[1])}\\n\\n\")\n",
    "    max_time = data[\"time\"].max()\n",
    "    data[\"max_normalized\"] = data[\"time\"].div(max_time)\n",
    "\n",
    "add_speedup_and_normalized_t_columns(df100, serial100)\n",
    "add_speedup_and_normalized_t_columns(df500, serial500)\n",
    "add_speedup_and_normalized_t_columns(df1000, serial1000)\n",
    "add_speedup_and_normalized_t_columns(df1500, serial1500)\n",
    "add_speedup_and_normalized_t_columns(df2000, serial2000)"
   ]
  },
  {
   "cell_type": "code",
   "execution_count": null,
   "metadata": {},
   "outputs": [],
   "source": [
    "df2000.head()"
   ]
  },
  {
   "cell_type": "code",
   "execution_count": null,
   "metadata": {},
   "outputs": [],
   "source": [
    "dataframes = [\n",
    "    (df100, \"Dimension 100\", \"green\"),\n",
    "    (df500, \"Dimension 500\", \"blue\"),\n",
    "    (df1000, \"Dimension 1000\", \"red\"),\n",
    "    (df1500, \"Dimension 1500\", \"purple\"),\n",
    "    (df2000, \"Dimension 2000\", \"violet\")\n",
    "]\n",
    "\n",
    "plt.figure(figsize=(10, 6))\n",
    "\n",
    "for df, label, color in dataframes:\n",
    "    plt.plot(df[\"nthreads\"], df[\"max_normalized\"], label=label, color=color)\n",
    "\n",
    "plt.xlabel(\"Number of threads\", labelpad=10, fontsize=10)\n",
    "plt.ylabel(\"Normalized\\ntime\", labelpad=35, rotation=0, fontsize=10)\n",
    "plt.legend()\n",
    "plt.show()"
   ]
  },
  {
   "cell_type": "code",
   "execution_count": null,
   "metadata": {},
   "outputs": [],
   "source": [
    "plt.figure(figsize=(10, 6))\n",
    "\n",
    "for df, label, color in dataframes:\n",
    "    plt.plot(df[\"nthreads\"], df[\"speedup\"], label=label, color=color)\n",
    "\n",
    "plt.xlabel(\"Number of threads\", labelpad=10, fontsize=10)\n",
    "plt.ylabel(\"Speedup\", labelpad=30, rotation=0, fontsize=10)\n",
    "plt.legend()\n",
    "plt.show()"
   ]
  },
  {
   "cell_type": "code",
   "execution_count": null,
   "metadata": {},
   "outputs": [],
   "source": []
  }
 ],
 "metadata": {
  "kernelspec": {
   "display_name": "atml",
   "language": "python",
   "name": "python3"
  },
  "language_info": {
   "codemirror_mode": {
    "name": "ipython",
    "version": 3
   },
   "file_extension": ".py",
   "mimetype": "text/x-python",
   "name": "python",
   "nbconvert_exporter": "python",
   "pygments_lexer": "ipython3",
   "version": "3.11.5"
  }
 },
 "nbformat": 4,
 "nbformat_minor": 2
}
